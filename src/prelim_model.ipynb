{
 "cells": [
  {
   "cell_type": "code",
   "execution_count": 3,
   "metadata": {},
   "outputs": [
    {
     "name": "stderr",
     "output_type": "stream",
     "text": [
      "\n",
      "(process:6120): GLib-GIO-WARNING **: 13:17:23.198: Unexpectedly, UWP app `Microsoft.ScreenSketch_11.2312.33.0_x64__8wekyb3d8bbwe' (AUMId `Microsoft.ScreenSketch_8wekyb3d8bbwe!App') supports 29 extensions but has no verbs\n",
      "\n",
      "(process:6120): GLib-GIO-WARNING **: 13:17:23.247: Unexpectedly, UWP app `Clipchamp.Clipchamp_2.9.1.0_neutral__yxz26nhyzhsrt' (AUMId `Clipchamp.Clipchamp_yxz26nhyzhsrt!App') supports 41 extensions but has no verbs\n",
      "\n",
      "(process:6120): GLib-GIO-WARNING **: 13:17:23.406: Unexpectedly, UWP app `Microsoft.OutlookForWindows_1.2024.207.0_x64__8wekyb3d8bbwe' (AUMId `Microsoft.OutlookForWindows_8wekyb3d8bbwe!Microsoft.OutlookforWindows') supports 4 extensions but has no verbs\n"
     ]
    }
   ],
   "source": [
    "# Code to solve a Version of the Lukas 78 model with inattention\n",
    "# A bit hacky at several points, but should work\n",
    "\n",
    "using Pkg   \n",
    "using Distributions,Plots,Parameters,LinearAlgebra,Optim,Roots\n",
    "@with_kw struct model             \n",
    "    ## Model parameters:\n",
    "    β = 0.95 # discount factor\n",
    "    σ = 2 # RRA/IES\n",
    "    θ = 0.5 # probability of no information update\n",
    "    w = 0.2 # fixed riskless income\n",
    "    AS = 1.0 # size of money tree\n",
    "\n",
    "    ## aggregate state:\n",
    "    nz = 2 # number of agg states\n",
    "    γgrid = [0.98,1.02] # grid for aggregate state\n",
    "    p_bg = 0.2 # probability of bad -> good\n",
    "    p_gg = 0.6 # probability of good -> good\n",
    "    γprob = [1-p_bg p_bg ; 1-p_gg p_gg] # transition matrix for aggregate state, [x,y] gives probability of transition from x to y\n",
    "    \n",
    "    ## asset grid:\n",
    "    na = 100 # number of asset grid points\n",
    "    amin = 0.0 # borrowing constraint\n",
    "    amax = 50.0 # maximum asset level\n",
    "    agrid = range(amin,stop=amax,length=na) # asset grid\n",
    "\n",
    "    ## periods since update grid:\n",
    "    kmin = 0 # minimum periods since update\n",
    "    kmax = 20 # θ^kmax should be very small\n",
    "    nk = 20 # number of periods since update grid points\n",
    "    kgrid = range(kmin,stop=kmax,length=nk+1) # periods since update grid\n",
    "\n",
    "    ## collect all\n",
    "    stateind = collect(Iterators.product(1:na, 1:nz, 1:nz, 1:nk)) # matrix of state indicies (assets, true z, last observed z, nk)\n",
    "\n",
    "    ## build a k period forward transition matrix\n",
    "    γprob_kfwd = [γprob^kgrid[ik+1] for ik in 1:nk]\n",
    "\n",
    "    ## numerical parameters\n",
    "    maxit = 100 # vfi maxiteration\n",
    "    tol = 1e-5 # vfi tolerance\n",
    "    Tburn = 100 # burn in periods\n",
    "    TT = 500 # simulation length\n",
    "    maxit_bis = 10 # maximum number of iterations for bisection\n",
    "    tol_bis = 1e-3 # tolerance for bisection\n",
    "end\n",
    "\n",
    "# utility function\n",
    "function u(par::model,c)\n",
    "    @unpack σ = par\n",
    "    if c <= 0\n",
    "        return -9999999999\n",
    "    end\n",
    "    if σ == 1\n",
    "        return log(c)\n",
    "    else\n",
    "        return c^(1-σ)/(1-σ)\n",
    "    end\n",
    "end;\n",
    "\n",
    "include(\"VFI.jl\");\n",
    "include(\"aggregates.jl\");\n",
    "\n"
   ]
  },
  {
   "cell_type": "code",
   "execution_count": 6,
   "metadata": {},
   "outputs": [
    {
     "data": {
      "text/plain": [
       "2-element Vector{Float64}:\n",
       " 0.1\n",
       " 0.2"
      ]
     },
     "metadata": {},
     "output_type": "display_data"
    }
   ],
   "source": [
    "# guess pz's_\n",
    "pzguess = [0.1,0.2];\n",
    "# test vfi:\n",
    "# v,a = VFI(model(),pzguess);"
   ]
  },
  {
   "cell_type": "code",
   "execution_count": 7,
   "metadata": {},
   "outputs": [
    {
     "name": "stdout",
     "output_type": "stream",
     "text": [
      " -- VFI done, Iteration: 42 Diff: 8.529713671379113e-6\n"
     ]
    },
    {
     "name": "stdout",
     "output_type": "stream",
     "text": [
      " -- VFI done, Iteration: 42 Diff: 8.529713674931827e-6\n"
     ]
    },
    {
     "name": "stdout",
     "output_type": "stream",
     "text": [
      "Initial Bisection Boundaries not set correctly, ADup: 13.91720858585859 ADdown: 10.346765151515152\n"
     ]
    }
   ],
   "source": [
    "# draw a shock series:\n",
    "zshocks = drawz(model());\n",
    "# simulate:\n",
    "# jdT,ap,ADT = simulate(model(),pzguess,zshocks);\n",
    "\n",
    "# test bisection:\n",
    "pvec = p_finder(model(),pzguess.*10,pzguess.*0.1,zshocks);"
   ]
  },
  {
   "cell_type": "code",
   "execution_count": 4,
   "metadata": {},
   "outputs": [
    {
     "ename": "UndefVarError",
     "evalue": "UndefVarError: apol not defined",
     "output_type": "error",
     "traceback": [
      "UndefVarError: apol not defined\n",
      "\n",
      "Stacktrace:\n",
      " [1] top-level scope\n",
      "   @ c:\\Users\\jonas\\OneDrive\\Economics\\Github\\Lukas_INAT\\src\\prelim_model.ipynb:3"
     ]
    }
   ],
   "source": [
    "# test the distribution transition fct:\n",
    "jd_1 = jdguess(model());\n",
    "jd_2 = jdtrans(model(),jd_1,apol,1); # 1 here = bad state today"
   ]
  },
  {
   "cell_type": "code",
   "execution_count": 5,
   "metadata": {},
   "outputs": [],
   "source": []
  },
  {
   "cell_type": "code",
   "execution_count": 7,
   "metadata": {},
   "outputs": [],
   "source": []
  },
  {
   "cell_type": "code",
   "execution_count": 6,
   "metadata": {},
   "outputs": [],
   "source": []
  },
  {
   "cell_type": "code",
   "execution_count": 23,
   "metadata": {},
   "outputs": [],
   "source": []
  }
 ],
 "metadata": {
  "kernelspec": {
   "display_name": "Julia 1.8.1",
   "language": "julia",
   "name": "julia-1.8"
  },
  "language_info": {
   "file_extension": ".jl",
   "mimetype": "application/julia",
   "name": "julia",
   "version": "1.8.1"
  },
  "orig_nbformat": 4
 },
 "nbformat": 4,
 "nbformat_minor": 2
}
