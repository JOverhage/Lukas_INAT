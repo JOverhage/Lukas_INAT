{
 "cells": [
  {
   "cell_type": "code",
   "execution_count": 14,
   "metadata": {},
   "outputs": [],
   "source": [
    "using Pkg   \n",
    "using Distributions,Plots,Parameters,LinearAlgebra,Optim,Roots\n",
    "@with_kw struct model             \n",
    "    ## Model parameters:\n",
    "    β = 0.95 # discount factor\n",
    "    σ = 2 # RRA/IES\n",
    "    θ = 0.5 # probability of no information update\n",
    "    w = 1.0 # fixed riskless income\n",
    "   \n",
    "    ## aggregate state:\n",
    "    nz = 2 # number of agg states\n",
    "    γgrid = [0.98,1.02] # grid for aggregate state\n",
    "    p_bg = 0.2 # probability of bad -> good\n",
    "    p_gg = 0.6 # probability of good -> good\n",
    "    γprob = [1-p_bg p_bg ; 1-p_gg p_gg] # transition matrix for aggregate state, [x,y] gives probability of transition from x to y\n",
    "\n",
    "    ## asset grid:\n",
    "    na = 100 # number of asset grid points\n",
    "    amin = 0.0 # borrowing constraint\n",
    "    amax = 1.0 # maximum asset level\n",
    "    agrid = range(amin,stop=amax,length=na) # asset grid\n",
    "\n",
    "    ## periods since update grid:\n",
    "    kmin = 0 # minimum periods since update\n",
    "    kmax = 20 # θ^kmax should be very small\n",
    "    nk = 20 # number of periods since update grid points\n",
    "    kgrid = range(kmin,stop=kmax,length=nk+1) # periods since update grid\n",
    "\n",
    "    ## collect all\n",
    "    stateind = collect(Iterators.product(1:na, 1:nz, 1:nz, 1:nk)) # matrix of state indicies (assets, true z, last observed z, nk)\n",
    "\n",
    "    ## build a k period forward transition matrix\n",
    "    γprob_kfwd = [ γprob^kgrid[ik+1] for ik in 1:nk]\n",
    "\n",
    "    ## numerical parameters\n",
    "    maxit = 20\n",
    "    tol = 1e-5\n",
    "end\n",
    "\n",
    "# utility function\n",
    "function u(par::model,c)\n",
    "    @unpack σ = par\n",
    "    if c <= 0\n",
    "        return -9999999999\n",
    "    end\n",
    "    if σ == 1\n",
    "        return log(c)\n",
    "    else\n",
    "        return c^(1-σ)/(1-σ)\n",
    "    end\n",
    "end;\n",
    "\n",
    "include(\"VFI.jl\");\n",
    "include(\"aggregates.jl\");"
   ]
  },
  {
   "cell_type": "code",
   "execution_count": 15,
   "metadata": {},
   "outputs": [],
   "source": [
    "# guess pz's_\n",
    "pzguess = [1.0,1.0];"
   ]
  },
  {
   "cell_type": "code",
   "execution_count": 16,
   "metadata": {},
   "outputs": [
    {
     "data": {
      "text/plain": [
       "([-3.3386354406315046 0.0; -3.307502326191787 0.0; … ; -1.9118189126928855 0.0; -1.9066653361107373 0.0;;; 0.0 -3.3386354406315046; 0.0 -3.3068835761531155; … ; 0.0 -1.9017158615714467; 0.0 -1.8966643360107274;;;; -3.122758604635805 0.0; -3.093475838439367 0.0; … ; -1.767920402644156 0.0; -1.7627668260620082 0.0;;; 0.0 -3.122758604635805; 0.0 -3.092886903246688; … ; 0.0 -1.7578173515227173; 0.0 -1.752765825961998;;;; -3.038318403721172 0.0; -3.0097834954945824 0.0; … ; -1.7127739237664947 0.0; -1.707620347184347 0.0;;; 0.0 -3.038318403721172; 0.0 -3.0092086660229707; … ; 0.0 -1.7026708726450561; 0.0 -1.6976193470843368;;;; … ;;;; -2.9825547775403596 0.0; -2.954531683460363 0.0; … ; -1.6767602789542426 0.0; -1.6716067023720949 0.0;;; 0.0 -2.9825547775403596; 0.0 -2.953970458938752; … ; 0.0 -1.666657227832804; 0.0 -1.6616057022720847;;;; -2.982554741980126 0.0; -2.9545316481881163 0.0; … ; -1.6767602560366082 0.0; -1.67160667945446 0.0;;; 0.0 -2.982554741980126; 0.0 -2.953970423666505; … ; 0.0 -1.6666572049151693; 0.0 -1.66160567935445;;;; -2.9825547285017477 0.0; -2.9545316348199178 0.0; … ; -1.6767602474151961 0.0; -1.671606670833048 0.0;;; 0.0 -2.9825547285017477; 0.0 -2.9539704102983064; … ; 0.0 -1.6666571962937573; 0.0 -1.661605670733038], [0.20202020202020202 0.0; 0.21212121212121213 0.0; … ; 1.0 0.0; 1.0 0.0;;; 0.0 0.20202020202020202; 0.0 0.21212121212121213; … ; 0.0 1.0; 0.0 1.0;;;; 0.18181818181818182 0.0; 0.1919191919191919 0.0; … ; 1.0 0.0; 1.0 0.0;;; 0.0 0.18181818181818182; 0.0 0.1919191919191919; … ; 0.0 1.0; 0.0 1.0;;;; 0.1717171717171717 0.0; 0.18181818181818182 0.0; … ; 1.0 0.0; 1.0 0.0;;; 0.0 0.1717171717171717; 0.0 0.18181818181818182; … ; 0.0 1.0; 0.0 1.0;;;; … ;;;; 0.16161616161616163 0.0; 0.1717171717171717 0.0; … ; 1.0 0.0; 1.0 0.0;;; 0.0 0.16161616161616163; 0.0 0.1717171717171717; … ; 0.0 1.0; 0.0 1.0;;;; 0.16161616161616163 0.0; 0.1717171717171717 0.0; … ; 1.0 0.0; 1.0 0.0;;; 0.0 0.16161616161616163; 0.0 0.1717171717171717; … ; 0.0 1.0; 0.0 1.0;;;; 0.16161616161616163 0.0; 0.1717171717171717 0.0; … ; 1.0 0.0; 1.0 0.0;;; 0.0 0.16161616161616163; 0.0 0.1717171717171717; … ; 0.0 1.0; 0.0 1.0])"
      ]
     },
     "metadata": {},
     "output_type": "display_data"
    }
   ],
   "source": [
    "V,apol = VFI(model(),pzguess);"
   ]
  },
  {
   "cell_type": "code",
   "execution_count": 20,
   "metadata": {},
   "outputs": [],
   "source": [
    "# test the distribution transition fct:\n",
    "jd_1 = jdguess(model());\n",
    "jd_2 = jdtrans(model(),jd_1,apol,1); # 1 here = bad state today"
   ]
  },
  {
   "cell_type": "code",
   "execution_count": 21,
   "metadata": {},
   "outputs": [],
   "source": []
  },
  {
   "cell_type": "code",
   "execution_count": null,
   "metadata": {},
   "outputs": [],
   "source": []
  }
 ],
 "metadata": {
  "kernelspec": {
   "display_name": "Julia 1.8.1",
   "language": "julia",
   "name": "julia-1.8"
  },
  "language_info": {
   "file_extension": ".jl",
   "mimetype": "application/julia",
   "name": "julia",
   "version": "1.8.1"
  },
  "orig_nbformat": 4
 },
 "nbformat": 4,
 "nbformat_minor": 2
}
