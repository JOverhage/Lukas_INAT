{
 "cells": [
  {
   "cell_type": "code",
   "execution_count": 9,
   "metadata": {},
   "outputs": [
    {
     "data": {
      "text/plain": [
       "u (generic function with 2 methods)"
      ]
     },
     "metadata": {},
     "output_type": "display_data"
    }
   ],
   "source": [
    "using Pkg   \n",
    "using Distributions,Plots,Parameters,LinearAlgebra,Optim,Roots\n",
    "@with_kw struct model             \n",
    "    ## Model parameters:\n",
    "    β = 0.95 # discount factor\n",
    "    σ = 2 # RRA/IES\n",
    "    θ = 0.5 # probability of no information update\n",
    "    w = 1.0 # fixed riskless income\n",
    "   \n",
    "    ## aggregate state:\n",
    "    nz = 2 # number of agg states\n",
    "    γgrid = [0.98,1.02] # grid for aggregate state\n",
    "    p_bg = 0.2 # probability of bad -> good\n",
    "    p_gg = 0.6 # probability of good -> good\n",
    "    γprob = [1-p_bg p_bg ; 1-p_gg p_gg] # transition matrix for aggregate state, [x,y] gives probability of transition from x to y\n",
    "\n",
    "    ## asset grid:\n",
    "    na = 100 # number of asset grid points\n",
    "    amin = 0.0 # borrowing constraint\n",
    "    amax = 1.0 # maximum asset level\n",
    "    agrid = range(amin,stop=amax,length=na) # asset grid\n",
    "\n",
    "    ## periods since update grid:\n",
    "    kmin = 0 # minimum periods since update\n",
    "    kmax = 20 # θ^kmax should be very small\n",
    "    nk = 20 # number of periods since update grid points\n",
    "    kgrid = range(kmin,stop=kmax,length=nk) # periods since update grid\n",
    "\n",
    "    ## collect all\n",
    "    stateind = collect(Iterators.product(1:na, 1:nz, 1:nk)) # matrix of state indicies\n",
    "end\n",
    "\n",
    "# utility function\n",
    "function u(par::model,c)\n",
    "    @unpack σ = par\n",
    "    if c <= 0\n",
    "        return -Inf\n",
    "    else\n",
    "    if σ == 1\n",
    "        return log(c)\n",
    "    else\n",
    "        return c^(1-σ)/(1-σ)\n",
    "    end\n",
    "end;\n",
    "\n",
    "#include(\"VFI.jl\");"
   ]
  },
  {
   "cell_type": "code",
   "execution_count": 10,
   "metadata": {},
   "outputs": [
    {
     "data": {
      "text/plain": [
       "0.4"
      ]
     },
     "metadata": {},
     "output_type": "display_data"
    }
   ],
   "source": [
    "model().γprob[2,1]"
   ]
  },
  {
   "cell_type": "code",
   "execution_count": 12,
   "metadata": {},
   "outputs": [
    {
     "data": {
      "text/plain": [
       "-1.0"
      ]
     },
     "metadata": {},
     "output_type": "display_data"
    }
   ],
   "source": [
    "u(model(),1.0)"
   ]
  },
  {
   "cell_type": "code",
   "execution_count": 13,
   "metadata": {},
   "outputs": [
    {
     "data": {
      "text/plain": [
       "100-element Vector{Float64}:\n",
       " 0.0\n",
       " 0.0\n",
       " 0.0\n",
       " 0.0\n",
       " 0.0\n",
       " 0.0\n",
       " 0.0\n",
       " 0.0\n",
       " 0.0\n",
       " 0.0\n",
       " ⋮\n",
       " 0.0\n",
       " 0.0\n",
       " 0.0\n",
       " 0.0\n",
       " 0.0\n",
       " 0.0\n",
       " 0.0\n",
       " 0.0\n",
       " 0.0"
      ]
     },
     "metadata": {},
     "output_type": "display_data"
    }
   ],
   "source": [
    "ttt = zeros(100)"
   ]
  },
  {
   "cell_type": "code",
   "execution_count": 14,
   "metadata": {},
   "outputs": [],
   "source": []
  },
  {
   "cell_type": "code",
   "execution_count": null,
   "metadata": {},
   "outputs": [],
   "source": []
  }
 ],
 "metadata": {
  "kernelspec": {
   "display_name": "Julia 1.8.1",
   "language": "julia",
   "name": "julia-1.8"
  },
  "language_info": {
   "file_extension": ".jl",
   "mimetype": "application/julia",
   "name": "julia",
   "version": "1.8.1"
  },
  "orig_nbformat": 4
 },
 "nbformat": 4,
 "nbformat_minor": 2
}
